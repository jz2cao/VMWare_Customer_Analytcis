{
 "cells": [
  {
   "cell_type": "code",
   "execution_count": 1,
   "metadata": {
    "colab": {
     "base_uri": "https://localhost:8080/",
     "height": 367
    },
    "id": "ry_IBKlNg9Kg",
    "outputId": "f52a0319-51fc-4678-cff2-3a8e999a85fc"
   },
   "outputs": [],
   "source": [
    "import math\n",
    "import numpy as np\n",
    "import pandas as pd\n",
    "import scipy.stats as stats\n",
    "import matplotlib.pyplot as plt\n",
    "\n",
    "from sklearn.ensemble import RandomForestClassifier\n",
    "from sklearn.model_selection import train_test_split\n",
    "from sklearn.preprocessing import OneHotEncoder\n",
    "from sklearn import preprocessing\n",
    "\n",
    "from IPython.core.interactiveshell import InteractiveShell\n",
    "InteractiveShell.ast_node_interactivity = \"all\"\n",
    "\n",
    "import category_encoders as ce\n",
    "from sklearn.metrics import classification_report\n",
    "from sklearn.metrics import confusion_matrix\n",
    "from scipy import stats\n",
    "from sklearn.model_selection import GridSearchCV"
   ]
  },
  {
   "cell_type": "code",
   "execution_count": 2,
   "metadata": {
    "id": "EzXKpdnqg9Kj",
    "outputId": "bee82631-b284-4e1f-cc19-f5d87042778f"
   },
   "outputs": [
    {
     "name": "stderr",
     "output_type": "stream",
     "text": [
      "C:\\Users\\tommy\\anaconda3\\lib\\site-packages\\IPython\\core\\interactiveshell.py:3165: DtypeWarning: Columns (598,600,601) have mixed types.Specify dtype option on import or set low_memory=False.\n",
      "  has_raised = await self.run_ast_nodes(code_ast.body, cell_name,\n"
     ]
    },
    {
     "name": "stdout",
     "output_type": "stream",
     "text": [
      "<class 'pandas.core.frame.DataFrame'>\n",
      "RangeIndex: 50006 entries, 0 to 50005\n",
      "Columns: 707 entries, Unnamed: 0 to indices\n",
      "dtypes: float64(123), int64(550), object(34)\n",
      "memory usage: 269.7+ MB\n"
     ]
    },
    {
     "data": {
      "text/html": [
       "<div>\n",
       "<style scoped>\n",
       "    .dataframe tbody tr th:only-of-type {\n",
       "        vertical-align: middle;\n",
       "    }\n",
       "\n",
       "    .dataframe tbody tr th {\n",
       "        vertical-align: top;\n",
       "    }\n",
       "\n",
       "    .dataframe thead th {\n",
       "        text-align: right;\n",
       "    }\n",
       "</style>\n",
       "<table border=\"1\" class=\"dataframe\">\n",
       "  <thead>\n",
       "    <tr style=\"text-align: right;\">\n",
       "      <th></th>\n",
       "      <th>Unnamed: 0</th>\n",
       "      <th>tot_page_views</th>\n",
       "      <th>tot_page_views_l30d</th>\n",
       "      <th>tot_page_views_l90d</th>\n",
       "      <th>tot_visits</th>\n",
       "      <th>tot_visits_l30d</th>\n",
       "      <th>tot_visits_l90d</th>\n",
       "      <th>log_in_events</th>\n",
       "      <th>internal_search_events</th>\n",
       "      <th>internal_campaign_events</th>\n",
       "      <th>...</th>\n",
       "      <th>ftr_dummy_idc_verticalsUnknown</th>\n",
       "      <th>tgt_first_date_hol_page_view</th>\n",
       "      <th>tgt_first_date_eval_page_view</th>\n",
       "      <th>tgt_first_date_seminar_page_view</th>\n",
       "      <th>tgt_first_date_webinar_page_view</th>\n",
       "      <th>tgt_first_date_whitepaper_download</th>\n",
       "      <th>tgt_first_date_any_download</th>\n",
       "      <th>tgt_more_than1</th>\n",
       "      <th>target</th>\n",
       "      <th>indices</th>\n",
       "    </tr>\n",
       "  </thead>\n",
       "  <tbody>\n",
       "    <tr>\n",
       "      <th>count</th>\n",
       "      <td>50006.000000</td>\n",
       "      <td>50006.000000</td>\n",
       "      <td>50006.000000</td>\n",
       "      <td>50006.000000</td>\n",
       "      <td>50006.000000</td>\n",
       "      <td>50006.000000</td>\n",
       "      <td>50006.000000</td>\n",
       "      <td>50006.000000</td>\n",
       "      <td>50006.000000</td>\n",
       "      <td>50006.000000</td>\n",
       "      <td>...</td>\n",
       "      <td>50006.000000</td>\n",
       "      <td>50006.000000</td>\n",
       "      <td>50006.000000</td>\n",
       "      <td>50006.0</td>\n",
       "      <td>50006.000000</td>\n",
       "      <td>50006.000000</td>\n",
       "      <td>50006.000000</td>\n",
       "      <td>50006.000000</td>\n",
       "      <td>50006.000000</td>\n",
       "      <td>50006.0</td>\n",
       "    </tr>\n",
       "    <tr>\n",
       "      <th>mean</th>\n",
       "      <td>99934.576011</td>\n",
       "      <td>73.433288</td>\n",
       "      <td>13.383994</td>\n",
       "      <td>36.071491</td>\n",
       "      <td>12.854197</td>\n",
       "      <td>2.382554</td>\n",
       "      <td>6.428089</td>\n",
       "      <td>67.805303</td>\n",
       "      <td>1.133624</td>\n",
       "      <td>0.000080</td>\n",
       "      <td>...</td>\n",
       "      <td>0.732112</td>\n",
       "      <td>0.021757</td>\n",
       "      <td>0.000500</td>\n",
       "      <td>0.0</td>\n",
       "      <td>0.000460</td>\n",
       "      <td>0.000600</td>\n",
       "      <td>0.020578</td>\n",
       "      <td>0.002020</td>\n",
       "      <td>0.068432</td>\n",
       "      <td>1.0</td>\n",
       "    </tr>\n",
       "    <tr>\n",
       "      <th>std</th>\n",
       "      <td>57669.390240</td>\n",
       "      <td>760.254988</td>\n",
       "      <td>134.119192</td>\n",
       "      <td>377.833496</td>\n",
       "      <td>162.130164</td>\n",
       "      <td>28.586230</td>\n",
       "      <td>82.373655</td>\n",
       "      <td>678.805295</td>\n",
       "      <td>20.080458</td>\n",
       "      <td>0.008943</td>\n",
       "      <td>...</td>\n",
       "      <td>0.442863</td>\n",
       "      <td>0.145892</td>\n",
       "      <td>0.022354</td>\n",
       "      <td>0.0</td>\n",
       "      <td>0.021442</td>\n",
       "      <td>0.024486</td>\n",
       "      <td>0.141967</td>\n",
       "      <td>0.044897</td>\n",
       "      <td>0.514947</td>\n",
       "      <td>0.0</td>\n",
       "    </tr>\n",
       "    <tr>\n",
       "      <th>min</th>\n",
       "      <td>3.000000</td>\n",
       "      <td>0.000000</td>\n",
       "      <td>0.000000</td>\n",
       "      <td>0.000000</td>\n",
       "      <td>1.000000</td>\n",
       "      <td>0.000000</td>\n",
       "      <td>0.000000</td>\n",
       "      <td>0.000000</td>\n",
       "      <td>0.000000</td>\n",
       "      <td>0.000000</td>\n",
       "      <td>...</td>\n",
       "      <td>0.000000</td>\n",
       "      <td>0.000000</td>\n",
       "      <td>0.000000</td>\n",
       "      <td>0.0</td>\n",
       "      <td>0.000000</td>\n",
       "      <td>0.000000</td>\n",
       "      <td>0.000000</td>\n",
       "      <td>0.000000</td>\n",
       "      <td>0.000000</td>\n",
       "      <td>1.0</td>\n",
       "    </tr>\n",
       "    <tr>\n",
       "      <th>25%</th>\n",
       "      <td>50072.750000</td>\n",
       "      <td>7.000000</td>\n",
       "      <td>0.000000</td>\n",
       "      <td>0.000000</td>\n",
       "      <td>1.000000</td>\n",
       "      <td>0.000000</td>\n",
       "      <td>0.000000</td>\n",
       "      <td>7.000000</td>\n",
       "      <td>0.000000</td>\n",
       "      <td>0.000000</td>\n",
       "      <td>...</td>\n",
       "      <td>0.000000</td>\n",
       "      <td>0.000000</td>\n",
       "      <td>0.000000</td>\n",
       "      <td>0.0</td>\n",
       "      <td>0.000000</td>\n",
       "      <td>0.000000</td>\n",
       "      <td>0.000000</td>\n",
       "      <td>0.000000</td>\n",
       "      <td>0.000000</td>\n",
       "      <td>1.0</td>\n",
       "    </tr>\n",
       "    <tr>\n",
       "      <th>50%</th>\n",
       "      <td>99849.500000</td>\n",
       "      <td>19.000000</td>\n",
       "      <td>0.000000</td>\n",
       "      <td>5.000000</td>\n",
       "      <td>3.000000</td>\n",
       "      <td>0.000000</td>\n",
       "      <td>1.000000</td>\n",
       "      <td>18.000000</td>\n",
       "      <td>0.000000</td>\n",
       "      <td>0.000000</td>\n",
       "      <td>...</td>\n",
       "      <td>1.000000</td>\n",
       "      <td>0.000000</td>\n",
       "      <td>0.000000</td>\n",
       "      <td>0.0</td>\n",
       "      <td>0.000000</td>\n",
       "      <td>0.000000</td>\n",
       "      <td>0.000000</td>\n",
       "      <td>0.000000</td>\n",
       "      <td>0.000000</td>\n",
       "      <td>1.0</td>\n",
       "    </tr>\n",
       "    <tr>\n",
       "      <th>75%</th>\n",
       "      <td>149954.250000</td>\n",
       "      <td>55.000000</td>\n",
       "      <td>5.000000</td>\n",
       "      <td>25.000000</td>\n",
       "      <td>9.000000</td>\n",
       "      <td>1.000000</td>\n",
       "      <td>4.000000</td>\n",
       "      <td>51.000000</td>\n",
       "      <td>0.000000</td>\n",
       "      <td>0.000000</td>\n",
       "      <td>...</td>\n",
       "      <td>1.000000</td>\n",
       "      <td>0.000000</td>\n",
       "      <td>0.000000</td>\n",
       "      <td>0.0</td>\n",
       "      <td>0.000000</td>\n",
       "      <td>0.000000</td>\n",
       "      <td>0.000000</td>\n",
       "      <td>0.000000</td>\n",
       "      <td>0.000000</td>\n",
       "      <td>1.0</td>\n",
       "    </tr>\n",
       "    <tr>\n",
       "      <th>max</th>\n",
       "      <td>199999.000000</td>\n",
       "      <td>110111.000000</td>\n",
       "      <td>18082.000000</td>\n",
       "      <td>55806.000000</td>\n",
       "      <td>24439.000000</td>\n",
       "      <td>4477.000000</td>\n",
       "      <td>12879.000000</td>\n",
       "      <td>103725.000000</td>\n",
       "      <td>3057.000000</td>\n",
       "      <td>1.000000</td>\n",
       "      <td>...</td>\n",
       "      <td>1.000000</td>\n",
       "      <td>1.000000</td>\n",
       "      <td>1.000000</td>\n",
       "      <td>0.0</td>\n",
       "      <td>1.000000</td>\n",
       "      <td>1.000000</td>\n",
       "      <td>1.000000</td>\n",
       "      <td>1.000000</td>\n",
       "      <td>5.000000</td>\n",
       "      <td>1.0</td>\n",
       "    </tr>\n",
       "  </tbody>\n",
       "</table>\n",
       "<p>8 rows × 673 columns</p>\n",
       "</div>"
      ],
      "text/plain": [
       "          Unnamed: 0  tot_page_views  tot_page_views_l30d  \\\n",
       "count   50006.000000    50006.000000         50006.000000   \n",
       "mean    99934.576011       73.433288            13.383994   \n",
       "std     57669.390240      760.254988           134.119192   \n",
       "min         3.000000        0.000000             0.000000   \n",
       "25%     50072.750000        7.000000             0.000000   \n",
       "50%     99849.500000       19.000000             0.000000   \n",
       "75%    149954.250000       55.000000             5.000000   \n",
       "max    199999.000000   110111.000000         18082.000000   \n",
       "\n",
       "       tot_page_views_l90d    tot_visits  tot_visits_l30d  tot_visits_l90d  \\\n",
       "count         50006.000000  50006.000000     50006.000000     50006.000000   \n",
       "mean             36.071491     12.854197         2.382554         6.428089   \n",
       "std             377.833496    162.130164        28.586230        82.373655   \n",
       "min               0.000000      1.000000         0.000000         0.000000   \n",
       "25%               0.000000      1.000000         0.000000         0.000000   \n",
       "50%               5.000000      3.000000         0.000000         1.000000   \n",
       "75%              25.000000      9.000000         1.000000         4.000000   \n",
       "max           55806.000000  24439.000000      4477.000000     12879.000000   \n",
       "\n",
       "       log_in_events  internal_search_events  internal_campaign_events  ...  \\\n",
       "count   50006.000000            50006.000000              50006.000000  ...   \n",
       "mean       67.805303                1.133624                  0.000080  ...   \n",
       "std       678.805295               20.080458                  0.008943  ...   \n",
       "min         0.000000                0.000000                  0.000000  ...   \n",
       "25%         7.000000                0.000000                  0.000000  ...   \n",
       "50%        18.000000                0.000000                  0.000000  ...   \n",
       "75%        51.000000                0.000000                  0.000000  ...   \n",
       "max    103725.000000             3057.000000                  1.000000  ...   \n",
       "\n",
       "       ftr_dummy_idc_verticalsUnknown  tgt_first_date_hol_page_view  \\\n",
       "count                    50006.000000                  50006.000000   \n",
       "mean                         0.732112                      0.021757   \n",
       "std                          0.442863                      0.145892   \n",
       "min                          0.000000                      0.000000   \n",
       "25%                          0.000000                      0.000000   \n",
       "50%                          1.000000                      0.000000   \n",
       "75%                          1.000000                      0.000000   \n",
       "max                          1.000000                      1.000000   \n",
       "\n",
       "       tgt_first_date_eval_page_view  tgt_first_date_seminar_page_view  \\\n",
       "count                   50006.000000                           50006.0   \n",
       "mean                        0.000500                               0.0   \n",
       "std                         0.022354                               0.0   \n",
       "min                         0.000000                               0.0   \n",
       "25%                         0.000000                               0.0   \n",
       "50%                         0.000000                               0.0   \n",
       "75%                         0.000000                               0.0   \n",
       "max                         1.000000                               0.0   \n",
       "\n",
       "       tgt_first_date_webinar_page_view  tgt_first_date_whitepaper_download  \\\n",
       "count                      50006.000000                        50006.000000   \n",
       "mean                           0.000460                            0.000600   \n",
       "std                            0.021442                            0.024486   \n",
       "min                            0.000000                            0.000000   \n",
       "25%                            0.000000                            0.000000   \n",
       "50%                            0.000000                            0.000000   \n",
       "75%                            0.000000                            0.000000   \n",
       "max                            1.000000                            1.000000   \n",
       "\n",
       "       tgt_first_date_any_download  tgt_more_than1        target  indices  \n",
       "count                 50006.000000    50006.000000  50006.000000  50006.0  \n",
       "mean                      0.020578        0.002020      0.068432      1.0  \n",
       "std                       0.141967        0.044897      0.514947      0.0  \n",
       "min                       0.000000        0.000000      0.000000      1.0  \n",
       "25%                       0.000000        0.000000      0.000000      1.0  \n",
       "50%                       0.000000        0.000000      0.000000      1.0  \n",
       "75%                       0.000000        0.000000      0.000000      1.0  \n",
       "max                       1.000000        1.000000      5.000000      1.0  \n",
       "\n",
       "[8 rows x 673 columns]"
      ]
     },
     "execution_count": 2,
     "metadata": {},
     "output_type": "execute_result"
    }
   ],
   "source": [
    "rawData = pd.read_csv(\"./Training.csv\")\n",
    "rawData.info()\n",
    "rawData.describe()"
   ]
  },
  {
   "cell_type": "markdown",
   "metadata": {
    "id": "Dp-w8CINg9Kl"
   },
   "source": [
    "### data cleaning"
   ]
  },
  {
   "cell_type": "code",
   "execution_count": 4,
   "metadata": {
    "id": "7bM2yY0Dg9Kl"
   },
   "outputs": [],
   "source": [
    "imputedData = rawData"
   ]
  },
  {
   "cell_type": "code",
   "execution_count": 5,
   "metadata": {
    "id": "aeRG8jBng9Kl",
    "outputId": "4c18f333-03b8-4607-bd23-72558dcd6b84"
   },
   "outputs": [
    {
     "name": "stdout",
     "output_type": "stream",
     "text": [
      "Dropped 11 cols missing >90% of data\n"
     ]
    }
   ],
   "source": [
    "def clean_and_mean_imputation(df):\n",
    " # \"\"\"For numeric columns, imputes the mean for missing values\n",
    "  #   and adds indicator variable for columns with >50% missing values\n",
    " # \"\"\"\n",
    "  numeric_cols = [col for col in df.columns if df[col].dtype in (int, float)]\n",
    "  missing_vals = pd.DataFrame(df.isnull().sum().sort_values(ascending=False)/len(df)).reset_index()\n",
    "  missing_vals.rename(columns={0:'missing','index':'colname'}, inplace=True)\n",
    "\n",
    "  over_fifty = missing_vals[missing_vals['missing'] >= 0.5]['colname'].tolist()\n",
    "  over_ninety = missing_vals[missing_vals['missing'] >= 0.9]['colname'].tolist()\n",
    "  df.drop(columns = over_ninety, inplace=True)\n",
    "  print(f'Dropped {len(over_ninety)} cols missing >90% of data')\n",
    "\n",
    "  to_impute = [col for col in over_fifty if col not in over_ninety]\n",
    "  for c in to_impute:\n",
    "    df[c+\"_imputed\"] = [1 if x in [None, np.nan] else 0 for x in df[c]]\n",
    "\n",
    "  output = df.apply(lambda x: x.fillna(x.mean()) if x.dtype in (int, float) else x.fillna(\"Missing Data\"))\n",
    "  return output\n",
    "\n",
    "imputedData = clean_and_mean_imputation(imputedData)"
   ]
  },
  {
   "cell_type": "code",
   "execution_count": 6,
   "metadata": {},
   "outputs": [],
   "source": [
    "# drop all catvar columns as suggested from the EDA\n",
    "\n",
    "imputedData = imputedData.drop(columns=[\"gu_city\",\"gu_state\",\"gu_sic_2_description\",\"gu_sic_4_description\",\"iso_country_dunssite\",\n",
    "\"gu_iso_country_name\",\"gu_country_geo\"])\n"
   ]
  },
  {
   "cell_type": "markdown",
   "metadata": {
    "id": "wsb2pC1Lg9Km"
   },
   "source": [
    "### remove target leakage"
   ]
  },
  {
   "cell_type": "code",
   "execution_count": 7,
   "metadata": {
    "id": "PZk1GGG0g9Km",
    "outputId": "ebfbd8ef-f1f5-4fd3-f606-e7b10e77ab7d"
   },
   "outputs": [
    {
     "data": {
      "text/plain": [
       "target                                        1.000000\n",
       "tgt_hol                                       0.959955\n",
       "tgt_first_date_hol_page_view                  0.692242\n",
       "tgt_first_date_any_download                   0.327053\n",
       "tgt_download                                  0.324047\n",
       "                                                ...   \n",
       "total_prodA_booking_amount_imputed                 NaN\n",
       "total_prodA_std_booking_amount_imputed             NaN\n",
       "total_prodA_5_x_booking_amount_imputed             NaN\n",
       "total_prodN_license_booking_amount_imputed         NaN\n",
       "db_annualsales_imputed                             NaN\n",
       "Length: 714, dtype: float64"
      ]
     },
     "execution_count": 7,
     "metadata": {},
     "output_type": "execute_result"
    }
   ],
   "source": [
    "leakage = imputedData.corrwith(imputedData[\"target\"])\n",
    "leakage.sort_values(ascending=False)"
   ]
  },
  {
   "cell_type": "code",
   "execution_count": 8,
   "metadata": {
    "id": "Q5uUVVpvg9Kn"
   },
   "outputs": [],
   "source": [
    "imputedData = imputedData.drop(columns=[\"tgt_hol\", \"tgt_first_date_hol_page_view\"])"
   ]
  },
  {
   "cell_type": "code",
   "execution_count": 9,
   "metadata": {
    "id": "pme4vBx2g9Kn"
   },
   "outputs": [],
   "source": [
    "target = imputedData[\"target\"]\n",
    "\n",
    "data = imputedData.drop(columns=[\"target\"])\n",
    "\n",
    "\n",
    "data[\"idc_verticals\"] = data[\"idc_verticals\"].astype(\"category\")\n",
    "data[\"db_industry\"] = data[\"db_industry\"].astype(\"category\")\n",
    "data[\"gu_emp_segment_desc\"] = data[\"gu_emp_segment_desc\"].astype(\"category\")\n",
    "data[\"gu_emp_segment\"] = data[\"gu_emp_segment\"].astype(\"category\")\n",
    "data[\"new_segment\"] = data[\"new_segment\"].astype(\"category\")\n"
   ]
  },
  {
   "cell_type": "markdown",
   "metadata": {
    "id": "JgyTalWAg9Kn"
   },
   "source": [
    "### Splitting data"
   ]
  },
  {
   "cell_type": "code",
   "execution_count": 19,
   "metadata": {
    "id": "0v0xlkTPg9Kn"
   },
   "outputs": [],
   "source": [
    "X_train, X_test, y_train, y_test = train_test_split(data, target, test_size=0.3)"
   ]
  },
  {
   "cell_type": "markdown",
   "metadata": {
    "id": "NvhQ3nmMg9Ko"
   },
   "source": [
    "### encoding"
   ]
  },
  {
   "cell_type": "code",
   "execution_count": 20,
   "metadata": {
    "id": "y08f3imEg9Ko",
    "outputId": "9216af01-2d14-4152-a90f-2068ab00996b"
   },
   "outputs": [
    {
     "name": "stderr",
     "output_type": "stream",
     "text": [
      "C:\\Users\\tommy\\anaconda3\\lib\\site-packages\\category_encoders\\utils.py:21: FutureWarning: is_categorical is deprecated and will be removed in a future version.  Use is_categorical_dtype instead\n",
      "  elif pd.api.types.is_categorical(cols):\n"
     ]
    }
   ],
   "source": [
    "encoder = ce.TargetEncoder()\n",
    "training_dataset = encoder.fit_transform(X_train, y_train)"
   ]
  },
  {
   "cell_type": "markdown",
   "metadata": {},
   "source": [
    "## Trying out random forest classifier"
   ]
  },
  {
   "cell_type": "code",
   "execution_count": 21,
   "metadata": {
    "id": "--u5PC2jg9Kp",
    "outputId": "eec5261f-565c-4390-86b3-e421f56b829a"
   },
   "outputs": [
    {
     "data": {
      "text/plain": [
       "RandomForestClassifier(class_weight='balanced', random_state=0)"
      ]
     },
     "execution_count": 21,
     "metadata": {},
     "output_type": "execute_result"
    }
   ],
   "source": [
    "clf=RandomForestClassifier(class_weight = \"balanced\", random_state=0)\n",
    "clf.fit(training_dataset,y_train)"
   ]
  },
  {
   "cell_type": "code",
   "execution_count": 22,
   "metadata": {
    "id": "0GZqmLk_g9Kq",
    "outputId": "ed810cf8-a7bb-40bd-cac7-03b715b04063"
   },
   "outputs": [
    {
     "name": "stderr",
     "output_type": "stream",
     "text": [
      "C:\\Users\\tommy\\anaconda3\\lib\\site-packages\\category_encoders\\utils.py:21: FutureWarning: is_categorical is deprecated and will be removed in a future version.  Use is_categorical_dtype instead\n",
      "  elif pd.api.types.is_categorical(cols):\n"
     ]
    }
   ],
   "source": [
    "encoder = ce.TargetEncoder()\n",
    "testing_dataset = encoder.fit_transform(X_test, y_test)\n",
    "\n",
    "y_pred_dt = clf.predict(testing_dataset)"
   ]
  },
  {
   "cell_type": "code",
   "execution_count": 23,
   "metadata": {
    "id": "wjcFdpgdg9Kq",
    "outputId": "193299d1-2f19-4ad5-bc4b-f78cec3c97b4"
   },
   "outputs": [
    {
     "name": "stdout",
     "output_type": "stream",
     "text": [
      "              precision    recall  f1-score   support\n",
      "\n",
      "           0       0.99      1.00      0.99     14583\n",
      "           1       0.89      0.96      0.92       232\n",
      "           2       0.00      0.00      0.00         4\n",
      "           3       0.00      0.00      0.00         5\n",
      "           4       0.86      0.19      0.32        31\n",
      "           5       0.00      0.00      0.00       147\n",
      "\n",
      "    accuracy                           0.99     15002\n",
      "   macro avg       0.46      0.36      0.37     15002\n",
      "weighted avg       0.98      0.99      0.98     15002\n",
      "\n"
     ]
    },
    {
     "name": "stderr",
     "output_type": "stream",
     "text": [
      "C:\\Users\\tommy\\anaconda3\\lib\\site-packages\\sklearn\\metrics\\_classification.py:1221: UndefinedMetricWarning: Precision and F-score are ill-defined and being set to 0.0 in labels with no predicted samples. Use `zero_division` parameter to control this behavior.\n",
      "  _warn_prf(average, modifier, msg_start, len(result))\n"
     ]
    }
   ],
   "source": [
    "class_names = [str(x) for x in clf.classes_]\n",
    "print(classification_report(y_test, y_pred_dt, target_names=class_names))"
   ]
  },
  {
   "cell_type": "code",
   "execution_count": 24,
   "metadata": {
    "id": "Dcs1ncUSg9Kq",
    "outputId": "045b86a6-81df-4225-d79e-67bcaef0142e"
   },
   "outputs": [
    {
     "name": "stdout",
     "output_type": "stream",
     "text": [
      "[[14582     1     0     0     0     0]\n",
      " [   10   222     0     0     0     0]\n",
      " [    1     2     0     0     1     0]\n",
      " [    5     0     0     0     0     0]\n",
      " [    1    24     0     0     6     0]\n",
      " [  147     0     0     0     0     0]]\n"
     ]
    }
   ],
   "source": [
    "print(confusion_matrix(y_test, y_pred_dt))"
   ]
  },
  {
   "cell_type": "markdown",
   "metadata": {
    "id": "rhuVtUJLg9Kr"
   },
   "source": [
    "### hyper parameter tunning"
   ]
  },
  {
   "cell_type": "code",
   "execution_count": 25,
   "metadata": {
    "id": "Dn-13zs8g9Kr",
    "outputId": "1fa3a123-cd11-4d21-efc2-03692922f0c0"
   },
   "outputs": [
    {
     "name": "stdout",
     "output_type": "stream",
     "text": [
      "Fitting 5 folds for each of 12 candidates, totalling 60 fits\n"
     ]
    },
    {
     "name": "stderr",
     "output_type": "stream",
     "text": [
      "[Parallel(n_jobs=1)]: Using backend SequentialBackend with 1 concurrent workers.\n",
      "[Parallel(n_jobs=1)]: Done  60 out of  60 | elapsed: 15.4min finished\n"
     ]
    }
   ],
   "source": [
    "params = {\n",
    "    \"max_depth\" : [10,20,30],\n",
    "    \"n_estimators\": [50,100,150,200]\n",
    "}\n",
    "\n",
    "search = GridSearchCV(clf, params, scoring=\"f1_macro\", cv=5, verbose=1)\n",
    "search = search.fit(training_dataset, y_train)"
   ]
  },
  {
   "cell_type": "code",
   "execution_count": 26,
   "metadata": {
    "id": "4-EPhezmg9Kr",
    "outputId": "ae38e1b2-3efe-4392-fb0b-0727a94b23af"
   },
   "outputs": [
    {
     "name": "stdout",
     "output_type": "stream",
     "text": [
      "              precision    recall  f1-score   support\n",
      "\n",
      "           0       0.99      1.00      0.99     14583\n",
      "           1       0.89      0.96      0.92       232\n",
      "           2       0.00      0.00      0.00         4\n",
      "           3       0.00      0.00      0.00         5\n",
      "           4       0.86      0.19      0.32        31\n",
      "           5       0.00      0.00      0.00       147\n",
      "\n",
      "    accuracy                           0.99     15002\n",
      "   macro avg       0.46      0.36      0.37     15002\n",
      "weighted avg       0.98      0.99      0.98     15002\n",
      "\n"
     ]
    },
    {
     "name": "stderr",
     "output_type": "stream",
     "text": [
      "C:\\Users\\tommy\\anaconda3\\lib\\site-packages\\sklearn\\metrics\\_classification.py:1221: UndefinedMetricWarning: Precision and F-score are ill-defined and being set to 0.0 in labels with no predicted samples. Use `zero_division` parameter to control this behavior.\n",
      "  _warn_prf(average, modifier, msg_start, len(result))\n"
     ]
    }
   ],
   "source": [
    "y_pred = search.predict(testing_dataset)\n",
    "print(classification_report(y_test, y_pred_dt))"
   ]
  },
  {
   "cell_type": "code",
   "execution_count": 28,
   "metadata": {
    "id": "iSSoIHvWg9Ks"
   },
   "outputs": [],
   "source": [
    "grid_scores = search.cv_results_"
   ]
  },
  {
   "cell_type": "code",
   "execution_count": 32,
   "metadata": {
    "id": "t-CBIKG6g9Ks",
    "outputId": "20a136b3-7b4b-49e5-eaab-0fadc04c995f"
   },
   "outputs": [
    {
     "data": {
      "text/html": [
       "<div>\n",
       "<style scoped>\n",
       "    .dataframe tbody tr th:only-of-type {\n",
       "        vertical-align: middle;\n",
       "    }\n",
       "\n",
       "    .dataframe tbody tr th {\n",
       "        vertical-align: top;\n",
       "    }\n",
       "\n",
       "    .dataframe thead th {\n",
       "        text-align: right;\n",
       "    }\n",
       "</style>\n",
       "<table border=\"1\" class=\"dataframe\">\n",
       "  <thead>\n",
       "    <tr style=\"text-align: right;\">\n",
       "      <th></th>\n",
       "      <th>mean_fit_time</th>\n",
       "      <th>std_fit_time</th>\n",
       "      <th>mean_score_time</th>\n",
       "      <th>std_score_time</th>\n",
       "      <th>param_max_depth</th>\n",
       "      <th>param_n_estimators</th>\n",
       "      <th>params</th>\n",
       "      <th>split0_test_score</th>\n",
       "      <th>split1_test_score</th>\n",
       "      <th>split2_test_score</th>\n",
       "      <th>split3_test_score</th>\n",
       "      <th>split4_test_score</th>\n",
       "      <th>mean_test_score</th>\n",
       "      <th>std_test_score</th>\n",
       "      <th>rank_test_score</th>\n",
       "    </tr>\n",
       "  </thead>\n",
       "  <tbody>\n",
       "    <tr>\n",
       "      <th>0</th>\n",
       "      <td>4.841852</td>\n",
       "      <td>0.330496</td>\n",
       "      <td>0.136877</td>\n",
       "      <td>0.026486</td>\n",
       "      <td>10</td>\n",
       "      <td>50</td>\n",
       "      <td>{'max_depth': 10, 'n_estimators': 50}</td>\n",
       "      <td>0.623408</td>\n",
       "      <td>0.428922</td>\n",
       "      <td>0.503537</td>\n",
       "      <td>0.603034</td>\n",
       "      <td>0.492659</td>\n",
       "      <td>0.530312</td>\n",
       "      <td>0.072622</td>\n",
       "      <td>1</td>\n",
       "    </tr>\n",
       "    <tr>\n",
       "      <th>1</th>\n",
       "      <td>9.345894</td>\n",
       "      <td>0.299912</td>\n",
       "      <td>0.217008</td>\n",
       "      <td>0.047663</td>\n",
       "      <td>10</td>\n",
       "      <td>100</td>\n",
       "      <td>{'max_depth': 10, 'n_estimators': 100}</td>\n",
       "      <td>0.561265</td>\n",
       "      <td>0.418834</td>\n",
       "      <td>0.512417</td>\n",
       "      <td>0.594058</td>\n",
       "      <td>0.492616</td>\n",
       "      <td>0.515838</td>\n",
       "      <td>0.060237</td>\n",
       "      <td>3</td>\n",
       "    </tr>\n",
       "    <tr>\n",
       "      <th>2</th>\n",
       "      <td>13.702708</td>\n",
       "      <td>0.218879</td>\n",
       "      <td>0.291865</td>\n",
       "      <td>0.064998</td>\n",
       "      <td>10</td>\n",
       "      <td>150</td>\n",
       "      <td>{'max_depth': 10, 'n_estimators': 150}</td>\n",
       "      <td>0.522687</td>\n",
       "      <td>0.530898</td>\n",
       "      <td>0.441422</td>\n",
       "      <td>0.612962</td>\n",
       "      <td>0.495487</td>\n",
       "      <td>0.520691</td>\n",
       "      <td>0.055751</td>\n",
       "      <td>2</td>\n",
       "    </tr>\n",
       "    <tr>\n",
       "      <th>3</th>\n",
       "      <td>18.778914</td>\n",
       "      <td>0.339021</td>\n",
       "      <td>0.383775</td>\n",
       "      <td>0.074023</td>\n",
       "      <td>10</td>\n",
       "      <td>200</td>\n",
       "      <td>{'max_depth': 10, 'n_estimators': 200}</td>\n",
       "      <td>0.494950</td>\n",
       "      <td>0.423934</td>\n",
       "      <td>0.438160</td>\n",
       "      <td>0.575870</td>\n",
       "      <td>0.437893</td>\n",
       "      <td>0.474162</td>\n",
       "      <td>0.056411</td>\n",
       "      <td>4</td>\n",
       "    </tr>\n",
       "    <tr>\n",
       "      <th>4</th>\n",
       "      <td>6.268175</td>\n",
       "      <td>0.229440</td>\n",
       "      <td>0.159649</td>\n",
       "      <td>0.029311</td>\n",
       "      <td>20</td>\n",
       "      <td>50</td>\n",
       "      <td>{'max_depth': 20, 'n_estimators': 50}</td>\n",
       "      <td>0.320602</td>\n",
       "      <td>0.349996</td>\n",
       "      <td>0.336882</td>\n",
       "      <td>0.422143</td>\n",
       "      <td>0.340609</td>\n",
       "      <td>0.354046</td>\n",
       "      <td>0.035348</td>\n",
       "      <td>9</td>\n",
       "    </tr>\n",
       "    <tr>\n",
       "      <th>5</th>\n",
       "      <td>13.299051</td>\n",
       "      <td>0.291130</td>\n",
       "      <td>0.303380</td>\n",
       "      <td>0.015288</td>\n",
       "      <td>20</td>\n",
       "      <td>100</td>\n",
       "      <td>{'max_depth': 20, 'n_estimators': 100}</td>\n",
       "      <td>0.320707</td>\n",
       "      <td>0.322998</td>\n",
       "      <td>0.330162</td>\n",
       "      <td>0.418493</td>\n",
       "      <td>0.320182</td>\n",
       "      <td>0.342508</td>\n",
       "      <td>0.038159</td>\n",
       "      <td>10</td>\n",
       "    </tr>\n",
       "    <tr>\n",
       "      <th>6</th>\n",
       "      <td>19.882436</td>\n",
       "      <td>0.966615</td>\n",
       "      <td>0.386127</td>\n",
       "      <td>0.042219</td>\n",
       "      <td>20</td>\n",
       "      <td>150</td>\n",
       "      <td>{'max_depth': 20, 'n_estimators': 150}</td>\n",
       "      <td>0.322321</td>\n",
       "      <td>0.320859</td>\n",
       "      <td>0.320182</td>\n",
       "      <td>0.417981</td>\n",
       "      <td>0.321768</td>\n",
       "      <td>0.340622</td>\n",
       "      <td>0.038686</td>\n",
       "      <td>11</td>\n",
       "    </tr>\n",
       "    <tr>\n",
       "      <th>7</th>\n",
       "      <td>25.986710</td>\n",
       "      <td>0.661163</td>\n",
       "      <td>0.552347</td>\n",
       "      <td>0.040591</td>\n",
       "      <td>20</td>\n",
       "      <td>200</td>\n",
       "      <td>{'max_depth': 20, 'n_estimators': 200}</td>\n",
       "      <td>0.321529</td>\n",
       "      <td>0.320859</td>\n",
       "      <td>0.321756</td>\n",
       "      <td>0.417297</td>\n",
       "      <td>0.320985</td>\n",
       "      <td>0.340485</td>\n",
       "      <td>0.038407</td>\n",
       "      <td>12</td>\n",
       "    </tr>\n",
       "    <tr>\n",
       "      <th>8</th>\n",
       "      <td>6.474292</td>\n",
       "      <td>0.179253</td>\n",
       "      <td>0.170980</td>\n",
       "      <td>0.035770</td>\n",
       "      <td>30</td>\n",
       "      <td>50</td>\n",
       "      <td>{'max_depth': 30, 'n_estimators': 50}</td>\n",
       "      <td>0.323693</td>\n",
       "      <td>0.318593</td>\n",
       "      <td>0.368058</td>\n",
       "      <td>0.349867</td>\n",
       "      <td>0.426926</td>\n",
       "      <td>0.357428</td>\n",
       "      <td>0.039106</td>\n",
       "      <td>8</td>\n",
       "    </tr>\n",
       "    <tr>\n",
       "      <th>9</th>\n",
       "      <td>13.270064</td>\n",
       "      <td>0.551770</td>\n",
       "      <td>0.301938</td>\n",
       "      <td>0.008673</td>\n",
       "      <td>30</td>\n",
       "      <td>100</td>\n",
       "      <td>{'max_depth': 30, 'n_estimators': 100}</td>\n",
       "      <td>0.323693</td>\n",
       "      <td>0.318444</td>\n",
       "      <td>0.319385</td>\n",
       "      <td>0.460407</td>\n",
       "      <td>0.402602</td>\n",
       "      <td>0.364906</td>\n",
       "      <td>0.057395</td>\n",
       "      <td>7</td>\n",
       "    </tr>\n",
       "    <tr>\n",
       "      <th>10</th>\n",
       "      <td>22.223144</td>\n",
       "      <td>2.213992</td>\n",
       "      <td>0.443579</td>\n",
       "      <td>0.111024</td>\n",
       "      <td>30</td>\n",
       "      <td>150</td>\n",
       "      <td>{'max_depth': 30, 'n_estimators': 150}</td>\n",
       "      <td>0.324478</td>\n",
       "      <td>0.319256</td>\n",
       "      <td>0.320973</td>\n",
       "      <td>0.480650</td>\n",
       "      <td>0.404204</td>\n",
       "      <td>0.369912</td>\n",
       "      <td>0.063975</td>\n",
       "      <td>5</td>\n",
       "    </tr>\n",
       "    <tr>\n",
       "      <th>11</th>\n",
       "      <td>26.480839</td>\n",
       "      <td>1.069945</td>\n",
       "      <td>0.597586</td>\n",
       "      <td>0.076671</td>\n",
       "      <td>30</td>\n",
       "      <td>200</td>\n",
       "      <td>{'max_depth': 30, 'n_estimators': 200}</td>\n",
       "      <td>0.325257</td>\n",
       "      <td>0.319113</td>\n",
       "      <td>0.321756</td>\n",
       "      <td>0.460574</td>\n",
       "      <td>0.404995</td>\n",
       "      <td>0.366339</td>\n",
       "      <td>0.057062</td>\n",
       "      <td>6</td>\n",
       "    </tr>\n",
       "  </tbody>\n",
       "</table>\n",
       "</div>"
      ],
      "text/plain": [
       "    mean_fit_time  std_fit_time  mean_score_time  std_score_time  \\\n",
       "0        4.841852      0.330496         0.136877        0.026486   \n",
       "1        9.345894      0.299912         0.217008        0.047663   \n",
       "2       13.702708      0.218879         0.291865        0.064998   \n",
       "3       18.778914      0.339021         0.383775        0.074023   \n",
       "4        6.268175      0.229440         0.159649        0.029311   \n",
       "5       13.299051      0.291130         0.303380        0.015288   \n",
       "6       19.882436      0.966615         0.386127        0.042219   \n",
       "7       25.986710      0.661163         0.552347        0.040591   \n",
       "8        6.474292      0.179253         0.170980        0.035770   \n",
       "9       13.270064      0.551770         0.301938        0.008673   \n",
       "10      22.223144      2.213992         0.443579        0.111024   \n",
       "11      26.480839      1.069945         0.597586        0.076671   \n",
       "\n",
       "   param_max_depth param_n_estimators                                  params  \\\n",
       "0               10                 50   {'max_depth': 10, 'n_estimators': 50}   \n",
       "1               10                100  {'max_depth': 10, 'n_estimators': 100}   \n",
       "2               10                150  {'max_depth': 10, 'n_estimators': 150}   \n",
       "3               10                200  {'max_depth': 10, 'n_estimators': 200}   \n",
       "4               20                 50   {'max_depth': 20, 'n_estimators': 50}   \n",
       "5               20                100  {'max_depth': 20, 'n_estimators': 100}   \n",
       "6               20                150  {'max_depth': 20, 'n_estimators': 150}   \n",
       "7               20                200  {'max_depth': 20, 'n_estimators': 200}   \n",
       "8               30                 50   {'max_depth': 30, 'n_estimators': 50}   \n",
       "9               30                100  {'max_depth': 30, 'n_estimators': 100}   \n",
       "10              30                150  {'max_depth': 30, 'n_estimators': 150}   \n",
       "11              30                200  {'max_depth': 30, 'n_estimators': 200}   \n",
       "\n",
       "    split0_test_score  split1_test_score  split2_test_score  \\\n",
       "0            0.623408           0.428922           0.503537   \n",
       "1            0.561265           0.418834           0.512417   \n",
       "2            0.522687           0.530898           0.441422   \n",
       "3            0.494950           0.423934           0.438160   \n",
       "4            0.320602           0.349996           0.336882   \n",
       "5            0.320707           0.322998           0.330162   \n",
       "6            0.322321           0.320859           0.320182   \n",
       "7            0.321529           0.320859           0.321756   \n",
       "8            0.323693           0.318593           0.368058   \n",
       "9            0.323693           0.318444           0.319385   \n",
       "10           0.324478           0.319256           0.320973   \n",
       "11           0.325257           0.319113           0.321756   \n",
       "\n",
       "    split3_test_score  split4_test_score  mean_test_score  std_test_score  \\\n",
       "0            0.603034           0.492659         0.530312        0.072622   \n",
       "1            0.594058           0.492616         0.515838        0.060237   \n",
       "2            0.612962           0.495487         0.520691        0.055751   \n",
       "3            0.575870           0.437893         0.474162        0.056411   \n",
       "4            0.422143           0.340609         0.354046        0.035348   \n",
       "5            0.418493           0.320182         0.342508        0.038159   \n",
       "6            0.417981           0.321768         0.340622        0.038686   \n",
       "7            0.417297           0.320985         0.340485        0.038407   \n",
       "8            0.349867           0.426926         0.357428        0.039106   \n",
       "9            0.460407           0.402602         0.364906        0.057395   \n",
       "10           0.480650           0.404204         0.369912        0.063975   \n",
       "11           0.460574           0.404995         0.366339        0.057062   \n",
       "\n",
       "    rank_test_score  \n",
       "0                 1  \n",
       "1                 3  \n",
       "2                 2  \n",
       "3                 4  \n",
       "4                 9  \n",
       "5                10  \n",
       "6                11  \n",
       "7                12  \n",
       "8                 8  \n",
       "9                 7  \n",
       "10                5  \n",
       "11                6  "
      ]
     },
     "execution_count": 32,
     "metadata": {},
     "output_type": "execute_result"
    }
   ],
   "source": [
    "# check out the grid search leaderboard\n",
    "\n",
    "df = pd.DataFrame(grid_scores)\n",
    "df"
   ]
  },
  {
   "cell_type": "code",
   "execution_count": 40,
   "metadata": {
    "id": "nqC6RPqlg9Ks",
    "outputId": "8d696266-d639-4119-b29b-50a44ad1b1e4"
   },
   "outputs": [
    {
     "name": "stdout",
     "output_type": "stream",
     "text": [
      "[[14578     0     0     0     0     0]\n",
      " [    4   237     0     0     0     0]\n",
      " [    1     0     0     0     0     0]\n",
      " [    5     1     0     0     0     0]\n",
      " [    2    25     0     0     2     0]\n",
      " [  147     0     0     0     0     0]]\n"
     ]
    }
   ],
   "source": [
    "print(confusion_matrix(y_test, y_pred_dt))"
   ]
  },
  {
   "cell_type": "markdown",
   "metadata": {
    "id": "5i5wQFU3g9Kt"
   },
   "source": [
    "# Binary target column"
   ]
  },
  {
   "cell_type": "code",
   "execution_count": 41,
   "metadata": {
    "id": "Z6je22Tlg9Kt"
   },
   "outputs": [],
   "source": [
    "binaryTarget = target\n",
    "\n",
    "binaryTarget = np.where(binaryTarget > 1, 1, 0)\n",
    "target0 = binaryTarget[binaryTarget==0]\n",
    "target1 = binaryTarget[binaryTarget==1]"
   ]
  },
  {
   "cell_type": "code",
   "execution_count": 42,
   "metadata": {
    "id": "y1Niz7qQg9Kt",
    "outputId": "6f0b7198-09f4-45d8-c628-13ff2bc10d0d"
   },
   "outputs": [
    {
     "data": {
      "text/plain": [
       "DescribeResult(nobs=49447, minmax=(0, 0), mean=0.0, variance=0.0, skewness=0.0, kurtosis=-3.0)"
      ]
     },
     "execution_count": 42,
     "metadata": {},
     "output_type": "execute_result"
    },
    {
     "data": {
      "text/plain": [
       "DescribeResult(nobs=559, minmax=(1, 1), mean=1.0, variance=0.0, skewness=0.0, kurtosis=-3.0)"
      ]
     },
     "execution_count": 42,
     "metadata": {},
     "output_type": "execute_result"
    }
   ],
   "source": [
    "stats.describe(target0)\n",
    "stats.describe(target1)"
   ]
  },
  {
   "cell_type": "code",
   "execution_count": 43,
   "metadata": {
    "id": "BOMU0_X3g9Kt"
   },
   "outputs": [],
   "source": [
    "X_train2, X_test2, y_train2, y_test2 = train_test_split(data, binaryTarget, test_size=0.3)"
   ]
  },
  {
   "cell_type": "code",
   "execution_count": 44,
   "metadata": {
    "id": "2u8HSskyg9Ku",
    "outputId": "d258bea2-681f-49ac-ef9f-51885047d800"
   },
   "outputs": [
    {
     "name": "stderr",
     "output_type": "stream",
     "text": [
      "C:\\Users\\tommy\\anaconda3\\lib\\site-packages\\category_encoders\\utils.py:21: FutureWarning: is_categorical is deprecated and will be removed in a future version.  Use is_categorical_dtype instead\n",
      "  elif pd.api.types.is_categorical(cols):\n"
     ]
    }
   ],
   "source": [
    "encoder = ce.TargetEncoder()\n",
    "training_dataset2 = encoder.fit_transform(X_train2, y_train2)"
   ]
  },
  {
   "cell_type": "code",
   "execution_count": 45,
   "metadata": {
    "id": "DNYYxvmDg9Ku",
    "outputId": "e2124a5e-cc2f-4895-d3c5-aa7ff8bdae72"
   },
   "outputs": [
    {
     "data": {
      "text/plain": [
       "RandomForestClassifier(class_weight='balanced', max_depth=5, random_state=0)"
      ]
     },
     "execution_count": 45,
     "metadata": {},
     "output_type": "execute_result"
    }
   ],
   "source": [
    "clf2=RandomForestClassifier(max_depth=5, class_weight = \"balanced\", random_state=0)\n",
    "clf2.fit(training_dataset2,y_train2)"
   ]
  },
  {
   "cell_type": "code",
   "execution_count": 46,
   "metadata": {
    "id": "ZBwgqldtg9Ku",
    "outputId": "27d0d26a-6ee7-4123-de36-256c5bf41d3c"
   },
   "outputs": [
    {
     "name": "stderr",
     "output_type": "stream",
     "text": [
      "C:\\Users\\tommy\\anaconda3\\lib\\site-packages\\category_encoders\\utils.py:21: FutureWarning: is_categorical is deprecated and will be removed in a future version.  Use is_categorical_dtype instead\n",
      "  elif pd.api.types.is_categorical(cols):\n"
     ]
    }
   ],
   "source": [
    "encoder = ce.TargetEncoder()\n",
    "testing_dataset2 = encoder.fit_transform(X_test2, y_test2)\n",
    "\n",
    "y_pred_dt2 = clf2.predict(testing_dataset2)"
   ]
  },
  {
   "cell_type": "code",
   "execution_count": 47,
   "metadata": {
    "id": "Ple7Ay5Sg9Kv",
    "outputId": "759acc69-b1d5-4d59-9b1b-398c2edfeebd"
   },
   "outputs": [
    {
     "name": "stdout",
     "output_type": "stream",
     "text": [
      "              precision    recall  f1-score   support\n",
      "\n",
      "           0       1.00      0.97      0.99     14839\n",
      "           1       0.25      0.82      0.38       163\n",
      "\n",
      "    accuracy                           0.97     15002\n",
      "   macro avg       0.62      0.89      0.68     15002\n",
      "weighted avg       0.99      0.97      0.98     15002\n",
      "\n"
     ]
    }
   ],
   "source": [
    "class_names2 = [str(x) for x in clf2.classes_]\n",
    "print(classification_report(y_test2, y_pred_dt2, target_names=class_names2))"
   ]
  },
  {
   "cell_type": "code",
   "execution_count": 48,
   "metadata": {},
   "outputs": [
    {
     "name": "stdout",
     "output_type": "stream",
     "text": [
      "[[14430   409]\n",
      " [   30   133]]\n"
     ]
    }
   ],
   "source": [
    "print(confusion_matrix(y_test2, y_pred_dt2))"
   ]
  },
  {
   "cell_type": "markdown",
   "metadata": {
    "id": "40NRcFUwg9Kw"
   },
   "source": [
    "### hpyerparameter tunning for binary target"
   ]
  },
  {
   "cell_type": "code",
   "execution_count": 49,
   "metadata": {
    "id": "Ln4DDSzdg9Kw",
    "outputId": "2b15a141-889a-45e5-f631-097503138a03"
   },
   "outputs": [
    {
     "name": "stdout",
     "output_type": "stream",
     "text": [
      "Fitting 5 folds for each of 12 candidates, totalling 60 fits\n"
     ]
    }
   ],
   "source": [
    "search2 = GridSearchCV(clf2, params, scoring=\"f1_macro\", cv=5, verbose=1)\n",
    "search2 = search2.fit(training_dataset2, y_train)"
   ]
  },
  {
   "cell_type": "code",
   "execution_count": 50,
   "metadata": {
    "id": "msx147Qlg9Kx",
    "outputId": "a21250af-7876-448d-8917-43c007f3f689"
   },
   "outputs": [
    {
     "name": "stdout",
     "output_type": "stream",
     "text": [
      "              precision    recall  f1-score   support\n",
      "\n",
      "           0       1.00      0.97      0.99     14839\n",
      "           1       0.25      0.82      0.38       163\n",
      "\n",
      "    accuracy                           0.97     15002\n",
      "   macro avg       0.62      0.89      0.68     15002\n",
      "weighted avg       0.99      0.97      0.98     15002\n",
      "\n"
     ]
    }
   ],
   "source": [
    "y_pred2 = search2.predict(testing_dataset2)\n",
    "print(classification_report(y_test2, y_pred_dt2))"
   ]
  },
  {
   "cell_type": "code",
   "execution_count": 51,
   "metadata": {
    "id": "YqtHpOjSg9Kx",
    "outputId": "853c9b50-9713-42f7-ea1b-1ee81940fccd"
   },
   "outputs": [
    {
     "data": {
      "text/html": [
       "<div>\n",
       "<style scoped>\n",
       "    .dataframe tbody tr th:only-of-type {\n",
       "        vertical-align: middle;\n",
       "    }\n",
       "\n",
       "    .dataframe tbody tr th {\n",
       "        vertical-align: top;\n",
       "    }\n",
       "\n",
       "    .dataframe thead th {\n",
       "        text-align: right;\n",
       "    }\n",
       "</style>\n",
       "<table border=\"1\" class=\"dataframe\">\n",
       "  <thead>\n",
       "    <tr style=\"text-align: right;\">\n",
       "      <th></th>\n",
       "      <th>mean_fit_time</th>\n",
       "      <th>std_fit_time</th>\n",
       "      <th>mean_score_time</th>\n",
       "      <th>std_score_time</th>\n",
       "      <th>param_max_depth</th>\n",
       "      <th>param_n_estimators</th>\n",
       "      <th>params</th>\n",
       "      <th>split0_test_score</th>\n",
       "      <th>split1_test_score</th>\n",
       "      <th>split2_test_score</th>\n",
       "      <th>split3_test_score</th>\n",
       "      <th>split4_test_score</th>\n",
       "      <th>mean_test_score</th>\n",
       "      <th>std_test_score</th>\n",
       "      <th>rank_test_score</th>\n",
       "    </tr>\n",
       "  </thead>\n",
       "  <tbody>\n",
       "    <tr>\n",
       "      <th>0</th>\n",
       "      <td>2.561941</td>\n",
       "      <td>0.117398</td>\n",
       "      <td>0.073542</td>\n",
       "      <td>0.008651</td>\n",
       "      <td>10</td>\n",
       "      <td>50</td>\n",
       "      <td>{'max_depth': 10, 'n_estimators': 50}</td>\n",
       "      <td>0.158258</td>\n",
       "      <td>0.165331</td>\n",
       "      <td>0.156317</td>\n",
       "      <td>0.160666</td>\n",
       "      <td>0.157694</td>\n",
       "      <td>0.159653</td>\n",
       "      <td>0.003168</td>\n",
       "      <td>12</td>\n",
       "    </tr>\n",
       "    <tr>\n",
       "      <th>1</th>\n",
       "      <td>5.799139</td>\n",
       "      <td>0.302088</td>\n",
       "      <td>0.137120</td>\n",
       "      <td>0.015938</td>\n",
       "      <td>10</td>\n",
       "      <td>100</td>\n",
       "      <td>{'max_depth': 10, 'n_estimators': 100}</td>\n",
       "      <td>0.162239</td>\n",
       "      <td>0.166069</td>\n",
       "      <td>0.159849</td>\n",
       "      <td>0.162871</td>\n",
       "      <td>0.157488</td>\n",
       "      <td>0.161703</td>\n",
       "      <td>0.002896</td>\n",
       "      <td>11</td>\n",
       "    </tr>\n",
       "    <tr>\n",
       "      <th>2</th>\n",
       "      <td>7.985681</td>\n",
       "      <td>0.385421</td>\n",
       "      <td>0.176514</td>\n",
       "      <td>0.014392</td>\n",
       "      <td>10</td>\n",
       "      <td>150</td>\n",
       "      <td>{'max_depth': 10, 'n_estimators': 150}</td>\n",
       "      <td>0.163729</td>\n",
       "      <td>0.165255</td>\n",
       "      <td>0.163890</td>\n",
       "      <td>0.164006</td>\n",
       "      <td>0.157768</td>\n",
       "      <td>0.162930</td>\n",
       "      <td>0.002637</td>\n",
       "      <td>10</td>\n",
       "    </tr>\n",
       "    <tr>\n",
       "      <th>3</th>\n",
       "      <td>10.248551</td>\n",
       "      <td>0.124791</td>\n",
       "      <td>0.221889</td>\n",
       "      <td>0.022883</td>\n",
       "      <td>10</td>\n",
       "      <td>200</td>\n",
       "      <td>{'max_depth': 10, 'n_estimators': 200}</td>\n",
       "      <td>0.165754</td>\n",
       "      <td>0.164799</td>\n",
       "      <td>0.163985</td>\n",
       "      <td>0.161770</td>\n",
       "      <td>0.159465</td>\n",
       "      <td>0.163155</td>\n",
       "      <td>0.002267</td>\n",
       "      <td>9</td>\n",
       "    </tr>\n",
       "    <tr>\n",
       "      <th>4</th>\n",
       "      <td>4.815694</td>\n",
       "      <td>0.256519</td>\n",
       "      <td>0.111174</td>\n",
       "      <td>0.016347</td>\n",
       "      <td>20</td>\n",
       "      <td>50</td>\n",
       "      <td>{'max_depth': 20, 'n_estimators': 50}</td>\n",
       "      <td>0.164472</td>\n",
       "      <td>0.164460</td>\n",
       "      <td>0.164460</td>\n",
       "      <td>0.164460</td>\n",
       "      <td>0.164471</td>\n",
       "      <td>0.164464</td>\n",
       "      <td>0.000006</td>\n",
       "      <td>5</td>\n",
       "    </tr>\n",
       "    <tr>\n",
       "      <th>5</th>\n",
       "      <td>9.174365</td>\n",
       "      <td>0.111348</td>\n",
       "      <td>0.181508</td>\n",
       "      <td>0.003725</td>\n",
       "      <td>20</td>\n",
       "      <td>100</td>\n",
       "      <td>{'max_depth': 20, 'n_estimators': 100}</td>\n",
       "      <td>0.164472</td>\n",
       "      <td>0.164472</td>\n",
       "      <td>0.164460</td>\n",
       "      <td>0.164460</td>\n",
       "      <td>0.164471</td>\n",
       "      <td>0.164467</td>\n",
       "      <td>0.000006</td>\n",
       "      <td>1</td>\n",
       "    </tr>\n",
       "    <tr>\n",
       "      <th>6</th>\n",
       "      <td>13.741819</td>\n",
       "      <td>0.233658</td>\n",
       "      <td>0.265426</td>\n",
       "      <td>0.025001</td>\n",
       "      <td>20</td>\n",
       "      <td>150</td>\n",
       "      <td>{'max_depth': 20, 'n_estimators': 150}</td>\n",
       "      <td>0.164472</td>\n",
       "      <td>0.164472</td>\n",
       "      <td>0.164460</td>\n",
       "      <td>0.164447</td>\n",
       "      <td>0.164471</td>\n",
       "      <td>0.164464</td>\n",
       "      <td>0.000010</td>\n",
       "      <td>6</td>\n",
       "    </tr>\n",
       "    <tr>\n",
       "      <th>7</th>\n",
       "      <td>18.165733</td>\n",
       "      <td>0.201797</td>\n",
       "      <td>0.335651</td>\n",
       "      <td>0.011118</td>\n",
       "      <td>20</td>\n",
       "      <td>200</td>\n",
       "      <td>{'max_depth': 20, 'n_estimators': 200}</td>\n",
       "      <td>0.164472</td>\n",
       "      <td>0.164472</td>\n",
       "      <td>0.164460</td>\n",
       "      <td>0.164447</td>\n",
       "      <td>0.164471</td>\n",
       "      <td>0.164464</td>\n",
       "      <td>0.000010</td>\n",
       "      <td>6</td>\n",
       "    </tr>\n",
       "    <tr>\n",
       "      <th>8</th>\n",
       "      <td>5.188426</td>\n",
       "      <td>0.059769</td>\n",
       "      <td>0.119140</td>\n",
       "      <td>0.006732</td>\n",
       "      <td>30</td>\n",
       "      <td>50</td>\n",
       "      <td>{'max_depth': 30, 'n_estimators': 50}</td>\n",
       "      <td>0.164472</td>\n",
       "      <td>0.164472</td>\n",
       "      <td>0.164460</td>\n",
       "      <td>0.164460</td>\n",
       "      <td>0.164471</td>\n",
       "      <td>0.164467</td>\n",
       "      <td>0.000006</td>\n",
       "      <td>1</td>\n",
       "    </tr>\n",
       "    <tr>\n",
       "      <th>9</th>\n",
       "      <td>10.437815</td>\n",
       "      <td>0.456916</td>\n",
       "      <td>0.207452</td>\n",
       "      <td>0.016090</td>\n",
       "      <td>30</td>\n",
       "      <td>100</td>\n",
       "      <td>{'max_depth': 30, 'n_estimators': 100}</td>\n",
       "      <td>0.164472</td>\n",
       "      <td>0.164472</td>\n",
       "      <td>0.164460</td>\n",
       "      <td>0.164460</td>\n",
       "      <td>0.164471</td>\n",
       "      <td>0.164467</td>\n",
       "      <td>0.000006</td>\n",
       "      <td>1</td>\n",
       "    </tr>\n",
       "    <tr>\n",
       "      <th>10</th>\n",
       "      <td>15.312327</td>\n",
       "      <td>0.155524</td>\n",
       "      <td>0.303779</td>\n",
       "      <td>0.036725</td>\n",
       "      <td>30</td>\n",
       "      <td>150</td>\n",
       "      <td>{'max_depth': 30, 'n_estimators': 150}</td>\n",
       "      <td>0.164472</td>\n",
       "      <td>0.164472</td>\n",
       "      <td>0.164460</td>\n",
       "      <td>0.164460</td>\n",
       "      <td>0.164471</td>\n",
       "      <td>0.164467</td>\n",
       "      <td>0.000006</td>\n",
       "      <td>1</td>\n",
       "    </tr>\n",
       "    <tr>\n",
       "      <th>11</th>\n",
       "      <td>20.311773</td>\n",
       "      <td>0.342022</td>\n",
       "      <td>0.421683</td>\n",
       "      <td>0.117904</td>\n",
       "      <td>30</td>\n",
       "      <td>200</td>\n",
       "      <td>{'max_depth': 30, 'n_estimators': 200}</td>\n",
       "      <td>0.164472</td>\n",
       "      <td>0.164472</td>\n",
       "      <td>0.164460</td>\n",
       "      <td>0.164447</td>\n",
       "      <td>0.164471</td>\n",
       "      <td>0.164464</td>\n",
       "      <td>0.000010</td>\n",
       "      <td>6</td>\n",
       "    </tr>\n",
       "  </tbody>\n",
       "</table>\n",
       "</div>"
      ],
      "text/plain": [
       "    mean_fit_time  std_fit_time  mean_score_time  std_score_time  \\\n",
       "0        2.561941      0.117398         0.073542        0.008651   \n",
       "1        5.799139      0.302088         0.137120        0.015938   \n",
       "2        7.985681      0.385421         0.176514        0.014392   \n",
       "3       10.248551      0.124791         0.221889        0.022883   \n",
       "4        4.815694      0.256519         0.111174        0.016347   \n",
       "5        9.174365      0.111348         0.181508        0.003725   \n",
       "6       13.741819      0.233658         0.265426        0.025001   \n",
       "7       18.165733      0.201797         0.335651        0.011118   \n",
       "8        5.188426      0.059769         0.119140        0.006732   \n",
       "9       10.437815      0.456916         0.207452        0.016090   \n",
       "10      15.312327      0.155524         0.303779        0.036725   \n",
       "11      20.311773      0.342022         0.421683        0.117904   \n",
       "\n",
       "   param_max_depth param_n_estimators                                  params  \\\n",
       "0               10                 50   {'max_depth': 10, 'n_estimators': 50}   \n",
       "1               10                100  {'max_depth': 10, 'n_estimators': 100}   \n",
       "2               10                150  {'max_depth': 10, 'n_estimators': 150}   \n",
       "3               10                200  {'max_depth': 10, 'n_estimators': 200}   \n",
       "4               20                 50   {'max_depth': 20, 'n_estimators': 50}   \n",
       "5               20                100  {'max_depth': 20, 'n_estimators': 100}   \n",
       "6               20                150  {'max_depth': 20, 'n_estimators': 150}   \n",
       "7               20                200  {'max_depth': 20, 'n_estimators': 200}   \n",
       "8               30                 50   {'max_depth': 30, 'n_estimators': 50}   \n",
       "9               30                100  {'max_depth': 30, 'n_estimators': 100}   \n",
       "10              30                150  {'max_depth': 30, 'n_estimators': 150}   \n",
       "11              30                200  {'max_depth': 30, 'n_estimators': 200}   \n",
       "\n",
       "    split0_test_score  split1_test_score  split2_test_score  \\\n",
       "0            0.158258           0.165331           0.156317   \n",
       "1            0.162239           0.166069           0.159849   \n",
       "2            0.163729           0.165255           0.163890   \n",
       "3            0.165754           0.164799           0.163985   \n",
       "4            0.164472           0.164460           0.164460   \n",
       "5            0.164472           0.164472           0.164460   \n",
       "6            0.164472           0.164472           0.164460   \n",
       "7            0.164472           0.164472           0.164460   \n",
       "8            0.164472           0.164472           0.164460   \n",
       "9            0.164472           0.164472           0.164460   \n",
       "10           0.164472           0.164472           0.164460   \n",
       "11           0.164472           0.164472           0.164460   \n",
       "\n",
       "    split3_test_score  split4_test_score  mean_test_score  std_test_score  \\\n",
       "0            0.160666           0.157694         0.159653        0.003168   \n",
       "1            0.162871           0.157488         0.161703        0.002896   \n",
       "2            0.164006           0.157768         0.162930        0.002637   \n",
       "3            0.161770           0.159465         0.163155        0.002267   \n",
       "4            0.164460           0.164471         0.164464        0.000006   \n",
       "5            0.164460           0.164471         0.164467        0.000006   \n",
       "6            0.164447           0.164471         0.164464        0.000010   \n",
       "7            0.164447           0.164471         0.164464        0.000010   \n",
       "8            0.164460           0.164471         0.164467        0.000006   \n",
       "9            0.164460           0.164471         0.164467        0.000006   \n",
       "10           0.164460           0.164471         0.164467        0.000006   \n",
       "11           0.164447           0.164471         0.164464        0.000010   \n",
       "\n",
       "    rank_test_score  \n",
       "0                12  \n",
       "1                11  \n",
       "2                10  \n",
       "3                 9  \n",
       "4                 5  \n",
       "5                 1  \n",
       "6                 6  \n",
       "7                 6  \n",
       "8                 1  \n",
       "9                 1  \n",
       "10                1  \n",
       "11                6  "
      ]
     },
     "execution_count": 51,
     "metadata": {},
     "output_type": "execute_result"
    }
   ],
   "source": [
    "grid_scores2 = search2.cv_results_\n",
    "df2 = pd.DataFrame(grid_scores2)\n",
    "df2"
   ]
  },
  {
   "cell_type": "code",
   "execution_count": 52,
   "metadata": {
    "id": "oouA7unyhK7M"
   },
   "outputs": [
    {
     "name": "stdout",
     "output_type": "stream",
     "text": [
      "[[14430   409]\n",
      " [   30   133]]\n"
     ]
    }
   ],
   "source": [
    "print(confusion_matrix(y_test2, y_pred_dt2))"
   ]
  },
  {
   "cell_type": "markdown",
   "metadata": {
    "id": "ikyLoV2hg9Ky"
   },
   "source": [
    "## Summary:\n"
   ]
  },
  {
   "cell_type": "markdown",
   "metadata": {
    "id": "S8dDPW2Mg9Ky"
   },
   "source": [
    "Since we have an imbalance class, we should be looking at the marco avg intead of weighted average\n",
    "\n",
    "multi-class: 0.55\n",
    "binary class: 0.72\n",
    "\n",
    "We can see that with binary target, the accuracy had increase significantly for the same dataset"
   ]
  }
 ],
 "metadata": {
  "colab": {
   "collapsed_sections": [],
   "name": "MMA_831_midterm_Tommy.ipynb",
   "provenance": []
  },
  "kernelspec": {
   "display_name": "Python 3",
   "language": "python",
   "name": "python3"
  },
  "language_info": {
   "codemirror_mode": {
    "name": "ipython",
    "version": 3
   },
   "file_extension": ".py",
   "mimetype": "text/x-python",
   "name": "python",
   "nbconvert_exporter": "python",
   "pygments_lexer": "ipython3",
   "version": "3.8.8"
  }
 },
 "nbformat": 4,
 "nbformat_minor": 1
}
